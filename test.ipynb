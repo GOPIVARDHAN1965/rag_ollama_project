{
 "cells": [
  {
   "cell_type": "markdown",
   "metadata": {},
   "source": [
    "# load the document"
   ]
  },
  {
   "cell_type": "code",
   "execution_count": 67,
   "metadata": {},
   "outputs": [],
   "source": [
    "from langchain.document_loaders import PyPDFDirectoryLoader\n",
    "\n",
    "from langchain_text_splitters import RecursiveCharacterTextSplitter\n",
    "from langchain.schema.document import Document\n",
    "\n",
    "from get_embedding_function import get_embedding_function\n",
    "from langchain.vectorstores.chroma import Chroma"
   ]
  },
  {
   "cell_type": "code",
   "execution_count": 56,
   "metadata": {},
   "outputs": [],
   "source": [
    "DATA_PATH = 'data/game'"
   ]
  },
  {
   "cell_type": "code",
   "execution_count": 57,
   "metadata": {},
   "outputs": [],
   "source": [
    "def load_documents():\n",
    "    loader = PyPDFDirectoryLoader(DATA_PATH)\n",
    "    return loader.load()"
   ]
  },
  {
   "cell_type": "code",
   "execution_count": 58,
   "metadata": {},
   "outputs": [],
   "source": [
    "documents = load_documents()"
   ]
  },
  {
   "cell_type": "code",
   "execution_count": 59,
   "metadata": {},
   "outputs": [
    {
     "data": {
      "text/plain": [
       "Document(metadata={'source': 'data/game/monopoly.pdf', 'page': 0}, page_content='MONOPOLY \\nProperty Trading Game from Parker Brothers\" \\nAGES 8+ \\n2 to 8 Players \\nContents: Gameboard, 3 dice, tokens, 32 houses, I2 hotels, Chance \\nand Community Chest cards, Title Deed cards, play money and a Banker\\'s tray. \\nNow there\\'s a faster way to play MONOPOLY. Choose to play by \\nthe classic rules for buying, renting and selling properties or use the \\nSpeed Die to get into the action faster. If you\\'ve never played the classic \\nMONOPOLY game, refer to the Classic Rules beginning on the next page. \\nIf you already know how to play and want to use the Speed Die, just \\nread the section below for the additional Speed Die rules. \\nSPEED DIE RULES \\nLearnins how to Play with the S~eed Die IS as \\n/ \\n fast as playing with i\\'t. \\n1. When starting the game, hand out an extra $1,000 to each player \\n(two $5005 should work). The game moves fast and you\\'ll need \\nthe extra cash to buy and build. \\n2. Do not use the Speed Die until you\\'ve landed on or passed over \\nGO for the first time. Once you collect that first $200 salary, you\\'ll \\nuse the Speed Die for the rest of the game. This means that some \\nplayers will start using the die before others. \\n3. Once you start using the Speed Die, roll it along with the two \\nwhite dice on your turn. Then do the following depending on \\nwhat you rolled. \\n1, 2, or 3: Add this number to the roll of the two white \\ndice. You\\'ll zoom around the board. ')"
      ]
     },
     "execution_count": 59,
     "metadata": {},
     "output_type": "execute_result"
    }
   ],
   "source": [
    "documents[0]"
   ]
  },
  {
   "cell_type": "markdown",
   "metadata": {},
   "source": [
    "# Split the document"
   ]
  },
  {
   "cell_type": "code",
   "execution_count": null,
   "metadata": {},
   "outputs": [],
   "source": [
    "def split_documents(documents: list[Document]):\n",
    "    text_splitter = RecursiveCharacterTextSplitter(\n",
    "        chunk_size = 800,\n",
    "        chunk_overlap = 80,\n",
    "        length_function = len,\n",
    "        is_separator_regex=False,\n",
    "    )\n",
    "    return text_splitter.split_documents(documents)"
   ]
  },
  {
   "cell_type": "code",
   "execution_count": 64,
   "metadata": {},
   "outputs": [],
   "source": [
    "chunks = split_documents(documents)"
   ]
  },
  {
   "cell_type": "markdown",
   "metadata": {},
   "source": []
  },
  {
   "cell_type": "code",
   "execution_count": 63,
   "metadata": {},
   "outputs": [
    {
     "data": {
      "text/plain": [
       "Document(metadata={'source': 'data/game/monopoly.pdf', 'page': 0}, page_content='MONOPOLY \\nProperty Trading Game from Parker Brothers\" \\nAGES 8+ \\n2 to 8 Players \\nContents: Gameboard, 3 dice, tokens, 32 houses, I2 hotels, Chance \\nand Community Chest cards, Title Deed cards, play money and a Banker\\'s tray. \\nNow there\\'s a faster way to play MONOPOLY. Choose to play by \\nthe classic rules for buying, renting and selling properties or use the \\nSpeed Die to get into the action faster. If you\\'ve never played the classic \\nMONOPOLY game, refer to the Classic Rules beginning on the next page. \\nIf you already know how to play and want to use the Speed Die, just \\nread the section below for the additional Speed Die rules. \\nSPEED DIE RULES \\nLearnins how to Play with the S~eed Die IS as \\n/ \\n fast as playing with i\\'t. \\n1. When starting the game, hand out an extra $1,000 to each player')"
      ]
     },
     "execution_count": 63,
     "metadata": {},
     "output_type": "execute_result"
    }
   ],
   "source": [
    "chunks[0]"
   ]
  },
  {
   "cell_type": "markdown",
   "metadata": {},
   "source": [
    "# Create an embedding for each chunk. these in turn acts as the key for our db."
   ]
  },
  {
   "cell_type": "code",
   "execution_count": 68,
   "metadata": {},
   "outputs": [],
   "source": [
    "CHROMA_PATH = \"chroma\"\n"
   ]
  },
  {
   "cell_type": "code",
   "execution_count": null,
   "metadata": {},
   "outputs": [],
   "source": [
    "def add_to_chroma(chunks: list[Document]):\n",
    "    db = Chroma(\n",
    "        persist_directory=CHROMA_PATH, embedding_function=get_embedding_function()\n",
    "    )\n",
    "    db.add_documents(new_chunks, ids=new_chunk_ids)\n",
    "    db.persist() \n"
   ]
  },
  {
   "cell_type": "code",
   "execution_count": null,
   "metadata": {},
   "outputs": [],
   "source": []
  },
  {
   "cell_type": "code",
   "execution_count": 66,
   "metadata": {},
   "outputs": [
    {
     "name": "stdout",
     "output_type": "stream",
     "text": [
      "\n",
      "A neural network is a type of machine learning algorithm that is designed to recognize patterns in data. It works by using a series of interconnected nodes or \"neurons\" that process and transmit information. Here's a simplified explanation of how a neural network works:\n",
      "\n",
      "1. Data Input: The neural network takes in a set of inputs, which could be images, sounds, text, or any other type of data.\n",
      "2. Data Processing: The inputs are fed into the network, and each node (or \"neuron\") in the network processes the input it receives. Each node performs a calculation on its input, using an activation function to transform the input into a new value. The calculation is like a simple mathematical operation, such as addition or multiplication.\n",
      "3. Data Transmission: The output of each node is transmitted to other nodes in the network, creating a flow of information. This allows the network to capture complex patterns in the data.\n",
      "4. Learning: As the network processes more data, it learns to recognize patterns and make predictions based on those patterns. The network adjusts its weights and biases (the values that determine how much each input is worth) to improve its accuracy over time.\n",
      "5. Output: Finally, the neural network produces an output based on the input it received and the patterns it has learned to recognize. This output could be a prediction, classification, or other type of output.\n",
      "\n",
      "In more detail, a neural network typically works by using multiple layers of interconnected nodes, called \"hidden layers,\" which allow it to learn more complex patterns in the data. Each node in the hidden layers receives the output from the previous layer, applies an activation function to transform the input, and then passes the output to the next layer. This allows the network to capture non-linear relationships in the data.\n",
      "\n",
      "The \"learning\" process in a neural network is actually the optimization of the weights and biases of the connections between nodes, using a technique called backpropagation. The goal of the optimization is to minimize the difference between the predicted output and the actual output, which is measured using a loss function. The network adjusts its weights and biases in a way that reduces this difference over time, allowing it to make more accurate predictions.\n",
      "\n",
      "Overall, a neural network works by processing inputs through a series of interconnected nodes, learning complex patterns in the data, and making predictions or classifications based on those patterns.\n"
     ]
    }
   ],
   "source": [
    "import requests\n",
    "import json\n",
    "\n",
    "url = \"http://127.0.0.1:11434/api/generate\"\n",
    "headers = {\"Content-Type\": \"application/json\"}\n",
    "data = {\n",
    "    \"model\": \"llama2:latest\",\n",
    "    \"prompt\": \"Explain how a neural network works in simple terms.\"\n",
    "}\n",
    "\n",
    "response = requests.post(url, headers=headers, json=data, stream=True)\n",
    "\n",
    "final_response = \"\"\n",
    "for line in response.iter_lines():\n",
    "    if line:\n",
    "        data = json.loads(line.decode('utf-8'))\n",
    "        final_response += data.get(\"response\", \"\")\n",
    "\n",
    "print(final_response)"
   ]
  },
  {
   "cell_type": "code",
   "execution_count": null,
   "metadata": {},
   "outputs": [],
   "source": []
  }
 ],
 "metadata": {
  "kernelspec": {
   "display_name": "venv",
   "language": "python",
   "name": "python3"
  },
  "language_info": {
   "codemirror_mode": {
    "name": "ipython",
    "version": 3
   },
   "file_extension": ".py",
   "mimetype": "text/x-python",
   "name": "python",
   "nbconvert_exporter": "python",
   "pygments_lexer": "ipython3",
   "version": "3.9.7"
  }
 },
 "nbformat": 4,
 "nbformat_minor": 2
}
